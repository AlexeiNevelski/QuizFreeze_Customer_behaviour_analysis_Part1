{
 "cells": [
  {
   "cell_type": "markdown",
   "metadata": {},
   "source": [
    "# Цель\n",
    "Исследовать поведение пользователей в приложении Quiz Freeze.\n",
    "\n",
    "# Задачи\n",
    "1. Проверить, зависит ли вероятность оплаты от выбранного пользователем уровня сложности.\n",
    "2. Проверить, различается ли временной промежуток между регистрацией и оплатой у групп пользователей с разным уровнем сложности."
   ]
  },
  {
   "cell_type": "markdown",
   "metadata": {},
   "source": [
    "# Предварительные шаги"
   ]
  },
  {
   "cell_type": "markdown",
   "metadata": {},
   "source": [
    "#### Импортируем библиотеку и исходные данные"
   ]
  },
  {
   "cell_type": "code",
   "execution_count": 3,
   "metadata": {},
   "outputs": [],
   "source": [
    "import pandas as pd\n",
    "events = pd.read_csv('7_4_Events.csv')\n",
    "purchase = pd.read_csv('purchase.csv')\n",
    "\n",
    "\n",
    "# На всякий случай работать будем с копиями исходных таблиц.\n",
    "events_df = events.copy()\n",
    "purchase_df = purchase.copy()"
   ]
  },
  {
   "cell_type": "markdown",
   "metadata": {},
   "source": [
    "#### Ознакомимся с исходными данными"
   ]
  },
  {
   "cell_type": "code",
   "execution_count": 4,
   "metadata": {},
   "outputs": [
    {
     "data": {
      "text/html": [
       "<div>\n",
       "<style scoped>\n",
       "    .dataframe tbody tr th:only-of-type {\n",
       "        vertical-align: middle;\n",
       "    }\n",
       "\n",
       "    .dataframe tbody tr th {\n",
       "        vertical-align: top;\n",
       "    }\n",
       "\n",
       "    .dataframe thead th {\n",
       "        text-align: right;\n",
       "    }\n",
       "</style>\n",
       "<table border=\"1\" class=\"dataframe\">\n",
       "  <thead>\n",
       "    <tr style=\"text-align: right;\">\n",
       "      <th></th>\n",
       "      <th>id</th>\n",
       "      <th>event_type</th>\n",
       "      <th>selected_level</th>\n",
       "      <th>start_time</th>\n",
       "      <th>tutorial_id</th>\n",
       "      <th>user_id</th>\n",
       "    </tr>\n",
       "  </thead>\n",
       "  <tbody>\n",
       "    <tr>\n",
       "      <th>0</th>\n",
       "      <td>28903</td>\n",
       "      <td>registration</td>\n",
       "      <td>NaN</td>\n",
       "      <td>2016-05-11T23:40:55</td>\n",
       "      <td>NaN</td>\n",
       "      <td>12583</td>\n",
       "    </tr>\n",
       "    <tr>\n",
       "      <th>1</th>\n",
       "      <td>28904</td>\n",
       "      <td>registration</td>\n",
       "      <td>NaN</td>\n",
       "      <td>2016-05-11T23:49:58</td>\n",
       "      <td>NaN</td>\n",
       "      <td>12584</td>\n",
       "    </tr>\n",
       "    <tr>\n",
       "      <th>2</th>\n",
       "      <td>28905</td>\n",
       "      <td>registration</td>\n",
       "      <td>NaN</td>\n",
       "      <td>2016-05-12T00:53:07</td>\n",
       "      <td>NaN</td>\n",
       "      <td>12585</td>\n",
       "    </tr>\n",
       "    <tr>\n",
       "      <th>3</th>\n",
       "      <td>28906</td>\n",
       "      <td>tutorial_start</td>\n",
       "      <td>NaN</td>\n",
       "      <td>2016-05-12T01:32:20</td>\n",
       "      <td>17562.0</td>\n",
       "      <td>12585</td>\n",
       "    </tr>\n",
       "    <tr>\n",
       "      <th>4</th>\n",
       "      <td>28907</td>\n",
       "      <td>tutorial_finish</td>\n",
       "      <td>NaN</td>\n",
       "      <td>2016-05-12T01:34:53</td>\n",
       "      <td>17562.0</td>\n",
       "      <td>12585</td>\n",
       "    </tr>\n",
       "  </tbody>\n",
       "</table>\n",
       "</div>"
      ],
      "text/plain": [
       "      id       event_type selected_level           start_time  tutorial_id  \\\n",
       "0  28903     registration            NaN  2016-05-11T23:40:55          NaN   \n",
       "1  28904     registration            NaN  2016-05-11T23:49:58          NaN   \n",
       "2  28905     registration            NaN  2016-05-12T00:53:07          NaN   \n",
       "3  28906   tutorial_start            NaN  2016-05-12T01:32:20      17562.0   \n",
       "4  28907  tutorial_finish            NaN  2016-05-12T01:34:53      17562.0   \n",
       "\n",
       "   user_id  \n",
       "0    12583  \n",
       "1    12584  \n",
       "2    12585  \n",
       "3    12585  \n",
       "4    12585  "
      ]
     },
     "execution_count": 4,
     "metadata": {},
     "output_type": "execute_result"
    }
   ],
   "source": [
    "events_df.head()"
   ]
  },
  {
   "cell_type": "code",
   "execution_count": 5,
   "metadata": {},
   "outputs": [
    {
     "name": "stdout",
     "output_type": "stream",
     "text": [
      "<class 'pandas.core.frame.DataFrame'>\n",
      "RangeIndex: 252334 entries, 0 to 252333\n",
      "Data columns (total 6 columns):\n",
      " #   Column          Non-Null Count   Dtype  \n",
      "---  ------          --------------   -----  \n",
      " 0   id              252334 non-null  int64  \n",
      " 1   event_type      252334 non-null  object \n",
      " 2   selected_level  31086 non-null   object \n",
      " 3   start_time      252334 non-null  object \n",
      " 4   tutorial_id     125103 non-null  float64\n",
      " 5   user_id         252334 non-null  int64  \n",
      "dtypes: float64(1), int64(2), object(3)\n",
      "memory usage: 11.6+ MB\n"
     ]
    }
   ],
   "source": [
    "events_df.info()"
   ]
  },
  {
   "cell_type": "code",
   "execution_count": 6,
   "metadata": {},
   "outputs": [
    {
     "data": {
      "text/html": [
       "<div>\n",
       "<style scoped>\n",
       "    .dataframe tbody tr th:only-of-type {\n",
       "        vertical-align: middle;\n",
       "    }\n",
       "\n",
       "    .dataframe tbody tr th {\n",
       "        vertical-align: top;\n",
       "    }\n",
       "\n",
       "    .dataframe thead th {\n",
       "        text-align: right;\n",
       "    }\n",
       "</style>\n",
       "<table border=\"1\" class=\"dataframe\">\n",
       "  <thead>\n",
       "    <tr style=\"text-align: right;\">\n",
       "      <th></th>\n",
       "      <th>id</th>\n",
       "      <th>user_id</th>\n",
       "      <th>event_datetime</th>\n",
       "      <th>amount</th>\n",
       "    </tr>\n",
       "  </thead>\n",
       "  <tbody>\n",
       "    <tr>\n",
       "      <th>0</th>\n",
       "      <td>15674</td>\n",
       "      <td>12584</td>\n",
       "      <td>2016-05-12T10:34:16</td>\n",
       "      <td>100</td>\n",
       "    </tr>\n",
       "    <tr>\n",
       "      <th>1</th>\n",
       "      <td>15675</td>\n",
       "      <td>12985</td>\n",
       "      <td>2016-05-13T08:25:56</td>\n",
       "      <td>50</td>\n",
       "    </tr>\n",
       "    <tr>\n",
       "      <th>2</th>\n",
       "      <td>15676</td>\n",
       "      <td>12828</td>\n",
       "      <td>2016-05-13T16:33:46</td>\n",
       "      <td>50</td>\n",
       "    </tr>\n",
       "    <tr>\n",
       "      <th>3</th>\n",
       "      <td>15677</td>\n",
       "      <td>12598</td>\n",
       "      <td>2016-05-14T01:09:37</td>\n",
       "      <td>150</td>\n",
       "    </tr>\n",
       "    <tr>\n",
       "      <th>4</th>\n",
       "      <td>15678</td>\n",
       "      <td>13037</td>\n",
       "      <td>2016-05-14T01:24:46</td>\n",
       "      <td>100</td>\n",
       "    </tr>\n",
       "  </tbody>\n",
       "</table>\n",
       "</div>"
      ],
      "text/plain": [
       "      id  user_id       event_datetime  amount\n",
       "0  15674    12584  2016-05-12T10:34:16     100\n",
       "1  15675    12985  2016-05-13T08:25:56      50\n",
       "2  15676    12828  2016-05-13T16:33:46      50\n",
       "3  15677    12598  2016-05-14T01:09:37     150\n",
       "4  15678    13037  2016-05-14T01:24:46     100"
      ]
     },
     "execution_count": 6,
     "metadata": {},
     "output_type": "execute_result"
    }
   ],
   "source": [
    "purchase_df.head()"
   ]
  },
  {
   "cell_type": "code",
   "execution_count": 7,
   "metadata": {},
   "outputs": [
    {
     "name": "stdout",
     "output_type": "stream",
     "text": [
      "<class 'pandas.core.frame.DataFrame'>\n",
      "RangeIndex: 5956 entries, 0 to 5955\n",
      "Data columns (total 4 columns):\n",
      " #   Column          Non-Null Count  Dtype \n",
      "---  ------          --------------  ----- \n",
      " 0   id              5956 non-null   int64 \n",
      " 1   user_id         5956 non-null   int64 \n",
      " 2   event_datetime  5956 non-null   object\n",
      " 3   amount          5956 non-null   int64 \n",
      "dtypes: int64(3), object(1)\n",
      "memory usage: 186.2+ KB\n"
     ]
    }
   ],
   "source": [
    "purchase_df.info()"
   ]
  },
  {
   "cell_type": "markdown",
   "metadata": {},
   "source": [
    "#### Преобразуем даты в формат datetime"
   ]
  },
  {
   "cell_type": "code",
   "execution_count": 8,
   "metadata": {},
   "outputs": [],
   "source": [
    "events_df['start_time'] = pd.to_datetime(events_df['start_time'], errors='coerce')\n",
    "purchase_df['event_datetime'] = pd.to_datetime(purchase_df['event_datetime'])"
   ]
  },
  {
   "cell_type": "markdown",
   "metadata": {},
   "source": [
    "#### Оставим записи только по пользователям, зарегистрировавшимся в 2018 году"
   ]
  },
  {
   "cell_type": "code",
   "execution_count": 9,
   "metadata": {},
   "outputs": [],
   "source": [
    "# Сначала создаем список пользователей, зарегистрировавшихся в 2018 году.\n",
    "cond_1 = events_df['event_type'] == 'registration'\n",
    "cond_2 = events_df['start_time'] >= '2018-01-01'\n",
    "cond_3 = events_df['start_time'] < '2019-01-01'\n",
    "registered_in_2018 = events_df[cond_1 & cond_2 & cond_3]['user_id'].to_list()\n",
    "\n",
    "\n",
    "# Сставляем в таблицах только нужные записи.\n",
    "events_df = events_df[events_df['user_id'].isin(registered_in_2018)]\n",
    "purchase_df = purchase_df[purchase_df['user_id'].isin(registered_in_2018)]"
   ]
  },
  {
   "cell_type": "markdown",
   "metadata": {},
   "source": [
    "#### Ознакомимся с обновленными таблицами"
   ]
  },
  {
   "cell_type": "code",
   "execution_count": 10,
   "metadata": {},
   "outputs": [
    {
     "name": "stdout",
     "output_type": "stream",
     "text": [
      "<class 'pandas.core.frame.DataFrame'>\n",
      "Int64Index: 66959 entries, 51405 to 118364\n",
      "Data columns (total 6 columns):\n",
      " #   Column          Non-Null Count  Dtype         \n",
      "---  ------          --------------  -----         \n",
      " 0   id              66959 non-null  int64         \n",
      " 1   event_type      66959 non-null  object        \n",
      " 2   selected_level  8342 non-null   object        \n",
      " 3   start_time      66959 non-null  datetime64[ns]\n",
      " 4   tutorial_id     32954 non-null  float64       \n",
      " 5   user_id         66959 non-null  int64         \n",
      "dtypes: datetime64[ns](1), float64(1), int64(2), object(2)\n",
      "memory usage: 3.6+ MB\n"
     ]
    }
   ],
   "source": [
    "events_df.info()"
   ]
  },
  {
   "cell_type": "code",
   "execution_count": 11,
   "metadata": {},
   "outputs": [
    {
     "data": {
      "text/plain": [
       "array(['registration', 'tutorial_start', 'tutorial_finish',\n",
       "       'level_choice', 'pack_choice'], dtype=object)"
      ]
     },
     "execution_count": 11,
     "metadata": {},
     "output_type": "execute_result"
    }
   ],
   "source": [
    "# Проверим, какие события есть в столбце event_type.\n",
    "events_df['event_type'].unique()"
   ]
  },
  {
   "cell_type": "code",
   "execution_count": 12,
   "metadata": {},
   "outputs": [
    {
     "name": "stdout",
     "output_type": "stream",
     "text": [
      "<class 'pandas.core.frame.DataFrame'>\n",
      "Int64Index: 1600 entries, 1171 to 2778\n",
      "Data columns (total 4 columns):\n",
      " #   Column          Non-Null Count  Dtype         \n",
      "---  ------          --------------  -----         \n",
      " 0   id              1600 non-null   int64         \n",
      " 1   user_id         1600 non-null   int64         \n",
      " 2   event_datetime  1600 non-null   datetime64[ns]\n",
      " 3   amount          1600 non-null   int64         \n",
      "dtypes: datetime64[ns](1), int64(3)\n",
      "memory usage: 62.5 KB\n"
     ]
    }
   ],
   "source": [
    "purchase_df.info()"
   ]
  },
  {
   "cell_type": "markdown",
   "metadata": {},
   "source": [
    "# Задача 1. Проверить, зависит ли вероятность оплаты от выбранного пользователем уровня сложности."
   ]
  },
  {
   "cell_type": "code",
   "execution_count": 13,
   "metadata": {},
   "outputs": [
    {
     "data": {
      "text/plain": [
       "8342"
      ]
     },
     "execution_count": 13,
     "metadata": {},
     "output_type": "execute_result"
    }
   ],
   "source": [
    "# Узнаем, сколько всего уникальных пользователей выбрали уровень сложности.\n",
    "events_df[events_df['event_type'] == 'level_choice']['user_id'].nunique()"
   ]
  },
  {
   "cell_type": "code",
   "execution_count": 14,
   "metadata": {},
   "outputs": [
    {
     "data": {
      "text/plain": [
       "medium    4645\n",
       "easy      2448\n",
       "hard      1249\n",
       "Name: selected_level, dtype: int64"
      ]
     },
     "execution_count": 14,
     "metadata": {},
     "output_type": "execute_result"
    }
   ],
   "source": [
    "# Узнаем, сколько пользователей выбрали различные уровни сложности.\n",
    "events_df['selected_level'].value_counts()"
   ]
  },
  {
   "cell_type": "markdown",
   "metadata": {},
   "source": [
    "#### Разделим пользователей на группы по выбору уровня сложности для дальнейшего анализа."
   ]
  },
  {
   "cell_type": "code",
   "execution_count": 15,
   "metadata": {},
   "outputs": [
    {
     "name": "stdout",
     "output_type": "stream",
     "text": [
      "2448 пользователей выбрали легкий уровень сложности\n"
     ]
    }
   ],
   "source": [
    "# Определим пользователей, выбравших легкий уровень сложности,\n",
    "# и сверим их количество с полученными выше данными.\n",
    "users_easy_level = events_df[events_df['selected_level'] == 'easy']['user_id'].unique()\n",
    "set_users_easy_level = set(users_easy_level)\n",
    "print(\n",
    "    '{} пользователей выбрали легкий уровень сложности'.format(len(\n",
    "        set_users_easy_level\n",
    "    ))\n",
    ")"
   ]
  },
  {
   "cell_type": "code",
   "execution_count": 16,
   "metadata": {},
   "outputs": [
    {
     "name": "stdout",
     "output_type": "stream",
     "text": [
      "4645 пользователей выбрали средний уровень сложности\n"
     ]
    }
   ],
   "source": [
    "# То же самое для пользователей, выбравших средний уровень сложности.\n",
    "users_medium_level = events_df[events_df['selected_level'] == 'medium']['user_id'].unique()\n",
    "set_users_medium_level = set(users_medium_level)\n",
    "print(\n",
    "    '{} пользователей выбрали средний уровень сложности'.format(len(\n",
    "        set_users_medium_level\n",
    "    ))\n",
    ")"
   ]
  },
  {
   "cell_type": "code",
   "execution_count": 17,
   "metadata": {},
   "outputs": [
    {
     "name": "stdout",
     "output_type": "stream",
     "text": [
      "1249 пользователей выбрали трудный уровень сложности\n"
     ]
    }
   ],
   "source": [
    "# Теперь для пользователей, выбравших средний уровень сложности.\n",
    "users_hard_level = events_df[events_df['selected_level'] == 'hard']['user_id'].unique()\n",
    "set_users_hard_level = set(users_hard_level)\n",
    "print(\n",
    "    '{} пользователей выбрали трудный уровень сложности'.format(len(\n",
    "        set_users_hard_level\n",
    "    ))\n",
    ")"
   ]
  },
  {
   "cell_type": "code",
   "execution_count": 18,
   "metadata": {},
   "outputs": [
    {
     "data": {
      "text/plain": [
       "True"
      ]
     },
     "execution_count": 18,
     "metadata": {},
     "output_type": "execute_result"
    }
   ],
   "source": [
    "# Убедимся, что данные сходятся.\n",
    "len(set_users_easy_level) + len(set_users_medium_level) + len(\n",
    "    set_users_hard_level\n",
    ") == events_df[events_df['event_type'] == 'level_choice']['user_id'].nunique()"
   ]
  },
  {
   "cell_type": "markdown",
   "metadata": {},
   "source": [
    "#### Узнаем, какой процент пользователей, выбравших легкий уровень сложности, совершили оплату."
   ]
  },
  {
   "cell_type": "code",
   "execution_count": 19,
   "metadata": {},
   "outputs": [
    {
     "data": {
      "text/plain": [
       "189"
      ]
     },
     "execution_count": 19,
     "metadata": {},
     "output_type": "execute_result"
    }
   ],
   "source": [
    "purchase_easy_level = purchase_df[\n",
    "    purchase_df['user_id'].isin(users_easy_level)\n",
    "]\n",
    "\n",
    "# Сколько пользователей, выбравших легкий уровень сложности, совершили оплату.\n",
    "purchase_easy_level['user_id'].nunique()"
   ]
  },
  {
   "cell_type": "code",
   "execution_count": 20,
   "metadata": {},
   "outputs": [
    {
     "name": "stdout",
     "output_type": "stream",
     "text": [
      "Из выбравших легкий уровень оплату совершили 7.72% пользователей\n"
     ]
    }
   ],
   "source": [
    "# Теперь найдем процент совершивших оплату.\n",
    "percent_purchase_easy = purchase_easy_level['user_id'].nunique() / len(\n",
    "    (set_users_easy_level)\n",
    ")\n",
    "print(\n",
    "    'Из выбравших легкий уровень оплату совершили {:.2%} пользователей'.format(\n",
    "        percent_purchase_easy\n",
    "    )\n",
    ")\n"
   ]
  },
  {
   "cell_type": "markdown",
   "metadata": {},
   "source": [
    "#### Узнаем, какой процент пользователей, выбравших средний уровень сложности, совершили оплату."
   ]
  },
  {
   "cell_type": "code",
   "execution_count": 21,
   "metadata": {},
   "outputs": [
    {
     "data": {
      "text/plain": [
       "969"
      ]
     },
     "execution_count": 21,
     "metadata": {},
     "output_type": "execute_result"
    }
   ],
   "source": [
    "purchase_medium_level = purchase_df[\n",
    "    purchase_df['user_id'].isin(users_medium_level)\n",
    "]\n",
    "\n",
    "# Сколько совершили оплату.\n",
    "purchase_medium_level['user_id'].nunique()"
   ]
  },
  {
   "cell_type": "code",
   "execution_count": 22,
   "metadata": {},
   "outputs": [
    {
     "name": "stdout",
     "output_type": "stream",
     "text": [
      "Из выбравших средний уровень оплату совершили 20.86% пользователей\n"
     ]
    }
   ],
   "source": [
    "percent_purchase_medium = purchase_medium_level['user_id'].nunique() / len(\n",
    "    set_users_medium_level\n",
    ")\n",
    "print(\n",
    "    'Из выбравших средний уровень оплату совершили {:.2%} пользователей'.format(\n",
    "        percent_purchase_medium\n",
    "    )\n",
    ")"
   ]
  },
  {
   "cell_type": "markdown",
   "metadata": {},
   "source": [
    "#### Узнаем, какой процент пользователей, выбравших трудный уровень сложности, совершили оплату."
   ]
  },
  {
   "cell_type": "code",
   "execution_count": 23,
   "metadata": {},
   "outputs": [
    {
     "data": {
      "text/plain": [
       "442"
      ]
     },
     "execution_count": 23,
     "metadata": {},
     "output_type": "execute_result"
    }
   ],
   "source": [
    "purchase_hard_level = purchase_df[\n",
    "    purchase_df['user_id'].isin(users_hard_level)\n",
    "]\n",
    "\n",
    "# Сколько совершили оплату.\n",
    "purchase_hard_level['user_id'].nunique()"
   ]
  },
  {
   "cell_type": "code",
   "execution_count": 24,
   "metadata": {},
   "outputs": [
    {
     "name": "stdout",
     "output_type": "stream",
     "text": [
      "Из выбравших трудный уровень оплату совершили 35.39% пользователей\n"
     ]
    }
   ],
   "source": [
    "percent_purchase_hard = purchase_hard_level['user_id'].nunique() / len(\n",
    "    set_users_hard_level\n",
    ")\n",
    "print(\n",
    "    'Из выбравших трудный уровень оплату совершили {:.2%} пользователей'.format(\n",
    "        percent_purchase_hard\n",
    "    )\n",
    ")"
   ]
  },
  {
   "cell_type": "markdown",
   "metadata": {},
   "source": [
    "#### Вывод: \n",
    "\n",
    "Из выбравших легкий уровень оплату совершили 7,72% пользователей, из выбравших средний уровень - 20,86%, из выбравших трудный уровень - 35,39%. \n",
    "\n",
    "Таким образом, чем выше выбранный пользователем уровень сложности, тем выше верояность покупки им платных вопросов."
   ]
  },
  {
   "cell_type": "markdown",
   "metadata": {},
   "source": [
    "# Задача 2. Проверить, различается ли временной промежуток между регистрацией и оплатой у групп пользователей с разным уровнем сложности."
   ]
  },
  {
   "cell_type": "markdown",
   "metadata": {},
   "source": [
    "Для каждой группы пользователей сделаем по два датафрейма: один — с событиями выбора уровня сложности, другой — с событиями оплаты. Затем объединим эти датафреймы в рамках каждой группы."
   ]
  },
  {
   "cell_type": "code",
   "execution_count": 25,
   "metadata": {},
   "outputs": [],
   "source": [
    "# Датафрейм с событиями оплаты мы ранее уже разбили на три датафрейма по группам пользователей.\n",
    "# Это датафреймы purchase_easy_level, purchase_medium_level и purchase_hard_level.\n",
    "# Аналогично разобьем датафрейм с событиями, а затем оставим в датафреймах только событие registration.\n",
    "events_easy_level = events_df[events_df['user_id'].isin(users_easy_level)]\n",
    "reg_easy_level = events_easy_level[events_easy_level['event_type'] == 'registration']\n",
    "\n",
    "events_medium_level = events_df[events_df['user_id'].isin(users_medium_level)]\n",
    "reg_medium_level = events_medium_level[events_medium_level['event_type'] == 'registration']\n",
    "\n",
    "events_hard_level = events_df[events_df['user_id'].isin(users_hard_level)]\n",
    "reg_hard_level = events_hard_level[events_hard_level['event_type'] == 'registration']"
   ]
  },
  {
   "cell_type": "markdown",
   "metadata": {},
   "source": [
    "Перед тем, как объединять датафреймы, ознакомимся с их структурой на примере одной группы."
   ]
  },
  {
   "cell_type": "code",
   "execution_count": 26,
   "metadata": {},
   "outputs": [
    {
     "name": "stdout",
     "output_type": "stream",
     "text": [
      "<class 'pandas.core.frame.DataFrame'>\n",
      "Int64Index: 2448 entries, 51430 to 118352\n",
      "Data columns (total 6 columns):\n",
      " #   Column          Non-Null Count  Dtype         \n",
      "---  ------          --------------  -----         \n",
      " 0   id              2448 non-null   int64         \n",
      " 1   event_type      2448 non-null   object        \n",
      " 2   selected_level  0 non-null      object        \n",
      " 3   start_time      2448 non-null   datetime64[ns]\n",
      " 4   tutorial_id     0 non-null      float64       \n",
      " 5   user_id         2448 non-null   int64         \n",
      "dtypes: datetime64[ns](1), float64(1), int64(2), object(2)\n",
      "memory usage: 133.9+ KB\n"
     ]
    }
   ],
   "source": [
    "reg_easy_level.info()"
   ]
  },
  {
   "cell_type": "code",
   "execution_count": 27,
   "metadata": {},
   "outputs": [
    {
     "name": "stdout",
     "output_type": "stream",
     "text": [
      "<class 'pandas.core.frame.DataFrame'>\n",
      "Int64Index: 189 entries, 1180 to 2767\n",
      "Data columns (total 4 columns):\n",
      " #   Column          Non-Null Count  Dtype         \n",
      "---  ------          --------------  -----         \n",
      " 0   id              189 non-null    int64         \n",
      " 1   user_id         189 non-null    int64         \n",
      " 2   event_datetime  189 non-null    datetime64[ns]\n",
      " 3   amount          189 non-null    int64         \n",
      "dtypes: datetime64[ns](1), int64(3)\n",
      "memory usage: 7.4 KB\n"
     ]
    }
   ],
   "source": [
    "purchase_easy_level.info()"
   ]
  },
  {
   "cell_type": "code",
   "execution_count": 28,
   "metadata": {},
   "outputs": [
    {
     "data": {
      "text/html": [
       "<div>\n",
       "<style scoped>\n",
       "    .dataframe tbody tr th:only-of-type {\n",
       "        vertical-align: middle;\n",
       "    }\n",
       "\n",
       "    .dataframe tbody tr th {\n",
       "        vertical-align: top;\n",
       "    }\n",
       "\n",
       "    .dataframe thead th {\n",
       "        text-align: right;\n",
       "    }\n",
       "</style>\n",
       "<table border=\"1\" class=\"dataframe\">\n",
       "  <thead>\n",
       "    <tr style=\"text-align: right;\">\n",
       "      <th></th>\n",
       "      <th>id</th>\n",
       "      <th>event_type</th>\n",
       "      <th>selected_level</th>\n",
       "      <th>start_time</th>\n",
       "      <th>tutorial_id</th>\n",
       "      <th>user_id</th>\n",
       "    </tr>\n",
       "  </thead>\n",
       "  <tbody>\n",
       "    <tr>\n",
       "      <th>51430</th>\n",
       "      <td>80333</td>\n",
       "      <td>registration</td>\n",
       "      <td>NaN</td>\n",
       "      <td>2018-01-01 23:18:46</td>\n",
       "      <td>NaN</td>\n",
       "      <td>27842</td>\n",
       "    </tr>\n",
       "    <tr>\n",
       "      <th>51445</th>\n",
       "      <td>80348</td>\n",
       "      <td>registration</td>\n",
       "      <td>NaN</td>\n",
       "      <td>2018-01-02 07:03:55</td>\n",
       "      <td>NaN</td>\n",
       "      <td>27849</td>\n",
       "    </tr>\n",
       "    <tr>\n",
       "      <th>51469</th>\n",
       "      <td>80372</td>\n",
       "      <td>registration</td>\n",
       "      <td>NaN</td>\n",
       "      <td>2018-01-02 15:47:14</td>\n",
       "      <td>NaN</td>\n",
       "      <td>27853</td>\n",
       "    </tr>\n",
       "    <tr>\n",
       "      <th>51485</th>\n",
       "      <td>80388</td>\n",
       "      <td>registration</td>\n",
       "      <td>NaN</td>\n",
       "      <td>2018-01-02 21:30:27</td>\n",
       "      <td>NaN</td>\n",
       "      <td>27859</td>\n",
       "    </tr>\n",
       "    <tr>\n",
       "      <th>51501</th>\n",
       "      <td>80404</td>\n",
       "      <td>registration</td>\n",
       "      <td>NaN</td>\n",
       "      <td>2018-01-03 03:53:48</td>\n",
       "      <td>NaN</td>\n",
       "      <td>27863</td>\n",
       "    </tr>\n",
       "  </tbody>\n",
       "</table>\n",
       "</div>"
      ],
      "text/plain": [
       "          id    event_type selected_level          start_time  tutorial_id  \\\n",
       "51430  80333  registration            NaN 2018-01-01 23:18:46          NaN   \n",
       "51445  80348  registration            NaN 2018-01-02 07:03:55          NaN   \n",
       "51469  80372  registration            NaN 2018-01-02 15:47:14          NaN   \n",
       "51485  80388  registration            NaN 2018-01-02 21:30:27          NaN   \n",
       "51501  80404  registration            NaN 2018-01-03 03:53:48          NaN   \n",
       "\n",
       "       user_id  \n",
       "51430    27842  \n",
       "51445    27849  \n",
       "51469    27853  \n",
       "51485    27859  \n",
       "51501    27863  "
      ]
     },
     "execution_count": 28,
     "metadata": {},
     "output_type": "execute_result"
    }
   ],
   "source": [
    "reg_easy_level.head()"
   ]
  },
  {
   "cell_type": "code",
   "execution_count": 29,
   "metadata": {},
   "outputs": [
    {
     "data": {
      "text/html": [
       "<div>\n",
       "<style scoped>\n",
       "    .dataframe tbody tr th:only-of-type {\n",
       "        vertical-align: middle;\n",
       "    }\n",
       "\n",
       "    .dataframe tbody tr th {\n",
       "        vertical-align: top;\n",
       "    }\n",
       "\n",
       "    .dataframe thead th {\n",
       "        text-align: right;\n",
       "    }\n",
       "</style>\n",
       "<table border=\"1\" class=\"dataframe\">\n",
       "  <thead>\n",
       "    <tr style=\"text-align: right;\">\n",
       "      <th></th>\n",
       "      <th>id</th>\n",
       "      <th>user_id</th>\n",
       "      <th>event_datetime</th>\n",
       "      <th>amount</th>\n",
       "    </tr>\n",
       "  </thead>\n",
       "  <tbody>\n",
       "    <tr>\n",
       "      <th>1180</th>\n",
       "      <td>16854</td>\n",
       "      <td>27884</td>\n",
       "      <td>2018-01-08 19:37:34</td>\n",
       "      <td>150</td>\n",
       "    </tr>\n",
       "    <tr>\n",
       "      <th>1191</th>\n",
       "      <td>16865</td>\n",
       "      <td>28182</td>\n",
       "      <td>2018-01-12 02:46:01</td>\n",
       "      <td>200</td>\n",
       "    </tr>\n",
       "    <tr>\n",
       "      <th>1193</th>\n",
       "      <td>16867</td>\n",
       "      <td>28207</td>\n",
       "      <td>2018-01-12 21:00:24</td>\n",
       "      <td>150</td>\n",
       "    </tr>\n",
       "    <tr>\n",
       "      <th>1199</th>\n",
       "      <td>16873</td>\n",
       "      <td>28090</td>\n",
       "      <td>2018-01-15 23:42:55</td>\n",
       "      <td>100</td>\n",
       "    </tr>\n",
       "    <tr>\n",
       "      <th>1206</th>\n",
       "      <td>16880</td>\n",
       "      <td>28378</td>\n",
       "      <td>2018-01-18 02:11:41</td>\n",
       "      <td>100</td>\n",
       "    </tr>\n",
       "  </tbody>\n",
       "</table>\n",
       "</div>"
      ],
      "text/plain": [
       "         id  user_id      event_datetime  amount\n",
       "1180  16854    27884 2018-01-08 19:37:34     150\n",
       "1191  16865    28182 2018-01-12 02:46:01     200\n",
       "1193  16867    28207 2018-01-12 21:00:24     150\n",
       "1199  16873    28090 2018-01-15 23:42:55     100\n",
       "1206  16880    28378 2018-01-18 02:11:41     100"
      ]
     },
     "execution_count": 29,
     "metadata": {},
     "output_type": "execute_result"
    }
   ],
   "source": [
    "purchase_easy_level.head()"
   ]
  },
  {
   "cell_type": "markdown",
   "metadata": {},
   "source": [
    "#### Перейдем к соединению датафреймов. \n",
    "\n",
    "Начнем с пользователей, выбравших легкий уровень."
   ]
  },
  {
   "cell_type": "code",
   "execution_count": 30,
   "metadata": {},
   "outputs": [
    {
     "data": {
      "text/plain": [
       "count                          189\n",
       "mean     3 days 22:10:23.211640211\n",
       "std      2 days 07:14:41.062010764\n",
       "min                0 days 04:36:58\n",
       "25%                2 days 01:12:12\n",
       "50%                3 days 11:00:23\n",
       "75%                5 days 10:24:59\n",
       "max               11 days 00:35:04\n",
       "Name: timedelta, dtype: object"
      ]
     },
     "execution_count": 30,
     "metadata": {},
     "output_type": "execute_result"
    }
   ],
   "source": [
    "# Нас интересуют только пользователи, совершившие оплату, \n",
    "# поэтому выберем тип соединения inner.\n",
    "reg_purchase_easy_df = reg_easy_level.merge(\n",
    "    purchase_easy_level, on='user_id', how='inner'\n",
    ")\n",
    "\n",
    "# Удалим лишние столбцы и добавим столбец timedelta.\n",
    "reg_purchase_easy_df = reg_purchase_easy_df[\n",
    "    ['user_id', 'start_time', 'event_datetime']].rename(\n",
    "        columns={'start_time': 'reg_time', 'event_datetime': 'purchase_time'}\n",
    ")\n",
    "reg_purchase_easy_df['timedelta'] = reg_purchase_easy_df['purchase_time'] - \\\n",
    "    reg_purchase_easy_df['reg_time']\n",
    "\n",
    "# Выведем статистические показатели для временного интервала между\n",
    "# регистрацией и оплатой.\n",
    "reg_purchase_easy_df['timedelta'].describe()"
   ]
  },
  {
   "cell_type": "markdown",
   "metadata": {},
   "source": [
    "Теперь для пользователей, выбравших средний уровень."
   ]
  },
  {
   "cell_type": "code",
   "execution_count": 31,
   "metadata": {},
   "outputs": [
    {
     "data": {
      "text/plain": [
       "count                          969\n",
       "mean     4 days 06:12:06.576883384\n",
       "std      2 days 06:25:57.480868026\n",
       "min                0 days 08:39:24\n",
       "25%                2 days 08:46:51\n",
       "50%                4 days 03:35:26\n",
       "75%                5 days 23:51:27\n",
       "max               10 days 20:34:02\n",
       "Name: timedelta, dtype: object"
      ]
     },
     "execution_count": 31,
     "metadata": {},
     "output_type": "execute_result"
    }
   ],
   "source": [
    "reg_purchase_medium_df = reg_medium_level.merge(\n",
    "    purchase_medium_level, on='user_id', how='inner'\n",
    ")\n",
    "\n",
    "# Удалим лишние столбцы и добавим столбец timedelta.\n",
    "reg_purchase_medium_df = reg_purchase_medium_df[\n",
    "    ['user_id', 'start_time', 'event_datetime']].rename(\n",
    "        columns={'start_time': 'reg_time', 'event_datetime': 'purchase_time'}\n",
    ")\n",
    "reg_purchase_medium_df['timedelta'] = reg_purchase_medium_df['purchase_time'] - \\\n",
    "    reg_purchase_medium_df['reg_time']\n",
    "\n",
    "# Выведем статистические показатели для временного интервала между\n",
    "# регистрацией и оплатой.\n",
    "reg_purchase_medium_df['timedelta'].describe()"
   ]
  },
  {
   "cell_type": "markdown",
   "metadata": {},
   "source": [
    "Наконец, для пользователей, выбравших трудный уровень."
   ]
  },
  {
   "cell_type": "code",
   "execution_count": 32,
   "metadata": {},
   "outputs": [
    {
     "data": {
      "text/plain": [
       "count                          442\n",
       "mean     3 days 14:55:19.257918552\n",
       "std      1 days 22:22:52.441896774\n",
       "min                0 days 09:41:39\n",
       "25%         1 days 23:36:25.500000\n",
       "50%         3 days 10:10:04.500000\n",
       "75%         5 days 03:30:07.750000\n",
       "max                8 days 14:21:29\n",
       "Name: timedelta, dtype: object"
      ]
     },
     "execution_count": 32,
     "metadata": {},
     "output_type": "execute_result"
    }
   ],
   "source": [
    "reg_purchase_hard_df = reg_hard_level.merge(\n",
    "    purchase_hard_level, on='user_id', how='inner'\n",
    ")\n",
    "\n",
    "# Удалим лишние столбцы и добавим столбец timedelta.\n",
    "reg_purchase_hard_df = reg_purchase_hard_df[\n",
    "    ['user_id', 'start_time', 'event_datetime']].rename(\n",
    "        columns={'start_time': 'reg_time', 'event_datetime': 'purchase_time'}\n",
    "    )\n",
    "\n",
    "reg_purchase_hard_df['timedelta'] = reg_purchase_hard_df['purchase_time'] - \\\n",
    "    reg_purchase_hard_df['reg_time']\n",
    "\n",
    "# Выведем статистические показатели для временного интервала между\n",
    "# регистрацией и оплатой.    \n",
    "reg_purchase_hard_df['timedelta'].describe()"
   ]
  },
  {
   "cell_type": "markdown",
   "metadata": {},
   "source": [
    "#### Вывод: \n",
    "\n",
    "Выбравшим легкий уровень пользователям для перехода от регистрации к оплате в среднем требуется около 3 дней 22 часов, средний уровень - около 4 дней 6 часов, трудный уровень - около 3 дней 15 часов.\n",
    "\n",
    "Таким образом, разница в средних показателях есть. Но с учетом стандартных отклонений в каждой группе (около 2 суток) ее нельзя назвать существенной. Кроме того, между выбором уровня сложности и временным интервалом между событиями registration и purchase не наблюдается прямой или обратной зависимости."
   ]
  },
  {
   "cell_type": "markdown",
   "metadata": {},
   "source": [
    "# Итог\n",
    "\n",
    "1. Зависит ли вероятность оплаты от выбранного пользователем уровня сложности?\n",
    "\n",
    "Да, чем выше выбранный пользователем уровень сложности, тем выше верояность покупки им платных вопросов.\n",
    "Причем вероятность растет сильно: из выбравших легкий уровень оплату совершили 7,72% пользователей, из выбравших средний уровень - 20,86%, из выбравших трудный уровень - 35,39%. \n",
    "\n",
    "2. Существует ли разница во времени между событиями регистрации и оплаты для разных групп пользователей с разным уровнем сложности?\n",
    "\n",
    "Разница незначительная, а также между выбором уровня сложности и временным интервалом между событиями registration и purchase не наблюдается прямой или обратной зависимости.\n",
    "\n",
    "# Общий вывод\n",
    "\n",
    "Наиболее выгодными для компании являются пользователи, выбирающие трудный уровень вопросов. "
   ]
  }
 ],
 "metadata": {
  "kernelspec": {
   "display_name": "Python 3.9.10 64-bit",
   "language": "python",
   "name": "python3"
  },
  "language_info": {
   "codemirror_mode": {
    "name": "ipython",
    "version": 3
   },
   "file_extension": ".py",
   "mimetype": "text/x-python",
   "name": "python",
   "nbconvert_exporter": "python",
   "pygments_lexer": "ipython3",
   "version": "3.9.10"
  },
  "orig_nbformat": 4,
  "vscode": {
   "interpreter": {
    "hash": "f544ea10d7c1fcbd80d1f5f5f03b3c8b55db4e56d7c22e2128ddade55e0e69ba"
   }
  }
 },
 "nbformat": 4,
 "nbformat_minor": 2
}
